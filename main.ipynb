{
 "cells": [
  {
   "metadata": {
    "ExecuteTime": {
     "end_time": "2025-08-05T20:27:44.998020Z",
     "start_time": "2025-08-05T20:27:44.993705Z"
    }
   },
   "cell_type": "code",
   "source": [
    "import pandas as pd\n",
    "import numpy as np\n"
   ],
   "id": "fbc121e30a2defb3",
   "outputs": [],
   "execution_count": 75
  },
  {
   "metadata": {},
   "cell_type": "markdown",
   "source": "Data Extraction",
   "id": "23e857b36a34f774"
  },
  {
   "metadata": {
    "ExecuteTime": {
     "end_time": "2025-08-05T20:27:45.017760Z",
     "start_time": "2025-08-05T20:27:45.008512Z"
    }
   },
   "cell_type": "code",
   "source": [
    "#در این بخش دیتا ها را می خوانیم تا ساختار داده ها را بررسی کنیم\n",
    "input_data=pd.read_csv(\"titanic.csv\")\n",
    "#input_data\n",
    "input_data.info()\n",
    "#input_data.describe()"
   ],
   "id": "72d9447b3b897a95",
   "outputs": [
    {
     "name": "stdout",
     "output_type": "stream",
     "text": [
      "<class 'pandas.core.frame.DataFrame'>\n",
      "RangeIndex: 891 entries, 0 to 890\n",
      "Data columns (total 12 columns):\n",
      " #   Column       Non-Null Count  Dtype  \n",
      "---  ------       --------------  -----  \n",
      " 0   PassengerId  891 non-null    int64  \n",
      " 1   Survived     891 non-null    int64  \n",
      " 2   Pclass       891 non-null    int64  \n",
      " 3   Name         891 non-null    object \n",
      " 4   Sex          891 non-null    object \n",
      " 5   Age          714 non-null    float64\n",
      " 6   SibSp        891 non-null    int64  \n",
      " 7   Parch        891 non-null    int64  \n",
      " 8   Ticket       891 non-null    object \n",
      " 9   Fare         891 non-null    float64\n",
      " 10  Cabin        204 non-null    object \n",
      " 11  Embarked     889 non-null    object \n",
      "dtypes: float64(2), int64(5), object(5)\n",
      "memory usage: 83.7+ KB\n"
     ]
    }
   ],
   "execution_count": 76
  },
  {
   "metadata": {
    "ExecuteTime": {
     "end_time": "2025-08-05T20:27:45.034690Z",
     "start_time": "2025-08-05T20:27:45.028830Z"
    }
   },
   "cell_type": "code",
   "source": [
    "#ابتدا چک می کنیم در کدام ستون ها مقدار خالی وجود دارد\n",
    "input_data.isna().sum()"
   ],
   "id": "24a85c9513b70230",
   "outputs": [
    {
     "data": {
      "text/plain": [
       "PassengerId      0\n",
       "Survived         0\n",
       "Pclass           0\n",
       "Name             0\n",
       "Sex              0\n",
       "Age            177\n",
       "SibSp            0\n",
       "Parch            0\n",
       "Ticket           0\n",
       "Fare             0\n",
       "Cabin          687\n",
       "Embarked         2\n",
       "dtype: int64"
      ]
     },
     "execution_count": 77,
     "metadata": {},
     "output_type": "execute_result"
    }
   ],
   "execution_count": 77
  },
  {
   "metadata": {
    "ExecuteTime": {
     "end_time": "2025-08-05T20:27:45.075057Z",
     "start_time": "2025-08-05T20:27:45.071163Z"
    }
   },
   "cell_type": "code",
   "source": [
    "#در ستون سن مقادیر خالی ای وجود دارد و برای این که در نتایج مان تاثیر نگذارد آن مقادیر را با میانگین سن مسافران پر می کنیم\n",
    "input_data.fillna({\"Age\":input_data[\"Age\"].mean()}, inplace=True)\n"
   ],
   "id": "9870b0929e466557",
   "outputs": [],
   "execution_count": 78
  },
  {
   "metadata": {
    "ExecuteTime": {
     "end_time": "2025-08-05T20:27:45.129209Z",
     "start_time": "2025-08-05T20:27:45.124069Z"
    }
   },
   "cell_type": "code",
   "source": [
    "#به این سه ستون نیازی نداریم چون هیچ ارتباطی بین آن ها وجود ندارد\n",
    "input_data.drop(columns=[\"PassengerId\",\"Name\",\"Ticket\"],inplace=True)\n"
   ],
   "id": "f23844d49ec3ae53",
   "outputs": [],
   "execution_count": 79
  },
  {
   "metadata": {
    "ExecuteTime": {
     "end_time": "2025-08-05T20:27:45.174708Z",
     "start_time": "2025-08-05T20:27:45.163928Z"
    }
   },
   "cell_type": "code",
   "source": [
    "#با استفاده از این تابع همه داده ها را بررسی کرده و تا جایی که امکان دارد آن ها را کاهش حجم می دهیم\n",
    "def auto_data_type(df):\n",
    "    for col in df.select_dtypes(include=[np.number]).columns:\n",
    "        min_value = df[col].min()\n",
    "        max_value = df[col].max()\n",
    "\n",
    "        if pd.api.types.is_float_dtype(df[col]):\n",
    "            df[col] = df[col].astype(np.float32)\n",
    "        elif min_value >= 0:\n",
    "            if max_value <= 255:\n",
    "                df[col] = df[col].astype(np.uint8)\n",
    "            elif max_value <= 65535:\n",
    "                df[col] = df[col].astype(np.uint16)\n",
    "            elif max_value <= 4294967295:\n",
    "                df[col] = df[col].astype(np.uint32)\n",
    "            else:\n",
    "                df[col] = df[col].astype(np.uint64)\n",
    "        else:\n",
    "            if -128 <= min_value and max_value <= 127:\n",
    "                df[col] = df[col].astype(np.int8)\n",
    "            elif -32768 <= min_value and max_value <= 32767:\n",
    "                df[col] = df[col].astype(np.int16)\n",
    "            elif -2147483648 <= min_value and max_value <= 2147483647:\n",
    "                df[col] = df[col].astype(np.int32)\n",
    "            else:\n",
    "                df[col] = df[col].astype(np.int64)\n",
    "    return df\n",
    "\n",
    "clean_df=auto_data_type(input_data)\n",
    "clean_df[\"Age\"]=clean_df[\"Age\"].astype(np.uint8)\n",
    "\n",
    "#به بررسی مقدار حجم کاهش یا فته می پردازیم تا تغییرات را مشاهده کنیم. همان طور که دیده می شود حدود 43 درصد کاهش حجم رخ داده است.\n",
    "clean_df.info()\n"
   ],
   "id": "f830cfd277cea886",
   "outputs": [
    {
     "name": "stdout",
     "output_type": "stream",
     "text": [
      "<class 'pandas.core.frame.DataFrame'>\n",
      "RangeIndex: 891 entries, 0 to 890\n",
      "Data columns (total 9 columns):\n",
      " #   Column    Non-Null Count  Dtype  \n",
      "---  ------    --------------  -----  \n",
      " 0   Survived  891 non-null    uint8  \n",
      " 1   Pclass    891 non-null    uint8  \n",
      " 2   Sex       891 non-null    object \n",
      " 3   Age       891 non-null    uint8  \n",
      " 4   SibSp     891 non-null    uint8  \n",
      " 5   Parch     891 non-null    uint8  \n",
      " 6   Fare      891 non-null    float32\n",
      " 7   Cabin     204 non-null    object \n",
      " 8   Embarked  889 non-null    object \n",
      "dtypes: float32(1), object(3), uint8(5)\n",
      "memory usage: 28.8+ KB\n"
     ]
    }
   ],
   "execution_count": 80
  },
  {
   "metadata": {
    "ExecuteTime": {
     "end_time": "2025-08-05T20:27:45.192790Z",
     "start_time": "2025-08-05T20:27:45.188224Z"
    }
   },
   "cell_type": "code",
   "source": [
    "#به دلیل آن که ستون های عددی برای نیاز داریم، ستون جنسیت را به صفر و یک تبدیل می کنیم\n",
    "clean_df[\"Sex\"] = clean_df[\"Sex\"].map({\"male\":1, \"female\":2})\n",
    "# هم چنین برای ستون Embarked هم در ابتدا به حرف اول جایی که سوار شدن نگاشت می کنیم\n",
    "#clean_df[\"Embarked\"] = clean_df[\"Embarked\"].map({\"S\":1, \"C\":2, \"Q\":3})\n",
    "# سپس مقادیر خالی را با استفاده از مد، پر می کنیم\n",
    "#print(np.unique(clean_df[\"Embarked\"].dropna(), return_counts=True) )\n",
    "clean_df.fillna({\"Embarked\":\"S\"}, inplace=True)"
   ],
   "id": "b30f8a9c8a085063",
   "outputs": [],
   "execution_count": 81
  }
 ],
 "metadata": {
  "kernelspec": {
   "display_name": "Python 3",
   "language": "python",
   "name": "python3"
  },
  "language_info": {
   "codemirror_mode": {
    "name": "ipython",
    "version": 2
   },
   "file_extension": ".py",
   "mimetype": "text/x-python",
   "name": "python",
   "nbconvert_exporter": "python",
   "pygments_lexer": "ipython2",
   "version": "2.7.6"
  }
 },
 "nbformat": 4,
 "nbformat_minor": 5
}
