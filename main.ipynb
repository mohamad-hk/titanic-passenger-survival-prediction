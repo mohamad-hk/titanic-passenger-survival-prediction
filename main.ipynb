{
 "cells": [
  {
   "metadata": {
    "ExecuteTime": {
     "end_time": "2025-08-06T19:48:43.233859Z",
     "start_time": "2025-08-06T19:48:43.222103Z"
    }
   },
   "cell_type": "code",
   "source": [
    "import pandas as pd\n",
    "import numpy as np\n",
    "import  matplotlib.pyplot as plt\n",
    "import seaborn as sns\n",
    "import plotly.express as px\n",
    "import time\n",
    "from sklearn.model_selection import train_test_split\n",
    "from sklearn.preprocessing import StandardScaler\n",
    "from sklearn.linear_model import LogisticRegression\n",
    "from sklearn.neighbors import KNeighborsClassifier\n",
    "from sklearn.metrics import accuracy_score, precision_score, recall_score, f1_score, silhouette_score, calinski_harabasz_score\n",
    "from sklearn.cluster import KMeans, DBSCAN, HDBSCAN\n",
    "from tabulate import tabulate\n"
   ],
   "id": "fbc121e30a2defb3",
   "outputs": [],
   "execution_count": 792
  },
  {
   "metadata": {},
   "cell_type": "markdown",
   "source": "Data Extraction",
   "id": "23e857b36a34f774"
  },
  {
   "metadata": {
    "ExecuteTime": {
     "end_time": "2025-08-06T19:48:43.334412Z",
     "start_time": "2025-08-06T19:48:43.310661Z"
    }
   },
   "cell_type": "code",
   "source": [
    "#در این بخش دیتا ها را می خوانیم تا ساختار داده ها را بررسی کنیم\n",
    "input_data=pd.read_csv(\"titanic.csv\")\n",
    "#input_data\n",
    "input_data.info()\n",
    "#input_data.describe()"
   ],
   "id": "72d9447b3b897a95",
   "outputs": [
    {
     "name": "stdout",
     "output_type": "stream",
     "text": [
      "<class 'pandas.core.frame.DataFrame'>\n",
      "RangeIndex: 891 entries, 0 to 890\n",
      "Data columns (total 12 columns):\n",
      " #   Column       Non-Null Count  Dtype  \n",
      "---  ------       --------------  -----  \n",
      " 0   PassengerId  891 non-null    int64  \n",
      " 1   Survived     891 non-null    int64  \n",
      " 2   Pclass       891 non-null    int64  \n",
      " 3   Name         891 non-null    object \n",
      " 4   Sex          891 non-null    object \n",
      " 5   Age          714 non-null    float64\n",
      " 6   SibSp        891 non-null    int64  \n",
      " 7   Parch        891 non-null    int64  \n",
      " 8   Ticket       891 non-null    object \n",
      " 9   Fare         891 non-null    float64\n",
      " 10  Cabin        204 non-null    object \n",
      " 11  Embarked     889 non-null    object \n",
      "dtypes: float64(2), int64(5), object(5)\n",
      "memory usage: 83.7+ KB\n"
     ]
    }
   ],
   "execution_count": 793
  },
  {
   "metadata": {
    "ExecuteTime": {
     "end_time": "2025-08-06T19:48:43.449831Z",
     "start_time": "2025-08-06T19:48:43.440892Z"
    }
   },
   "cell_type": "code",
   "source": [
    "#ابتدا چک می کنیم در کدام ستون ها مقدار خالی وجود دارد\n",
    "input_data.isna().sum()"
   ],
   "id": "24a85c9513b70230",
   "outputs": [
    {
     "data": {
      "text/plain": [
       "PassengerId      0\n",
       "Survived         0\n",
       "Pclass           0\n",
       "Name             0\n",
       "Sex              0\n",
       "Age            177\n",
       "SibSp            0\n",
       "Parch            0\n",
       "Ticket           0\n",
       "Fare             0\n",
       "Cabin          687\n",
       "Embarked         2\n",
       "dtype: int64"
      ]
     },
     "execution_count": 794,
     "metadata": {},
     "output_type": "execute_result"
    }
   ],
   "execution_count": 794
  },
  {
   "metadata": {
    "ExecuteTime": {
     "end_time": "2025-08-06T19:48:43.617894Z",
     "start_time": "2025-08-06T19:48:43.610658Z"
    }
   },
   "cell_type": "code",
   "source": [
    "#در ستون سن مقادیر خالی ای وجود دارد و برای این که در نتایج مان تاثیر نگذارد آن مقادیر را با میانگین سن مسافران پر می کنیم\n",
    "input_data.fillna({\"Age\":input_data[\"Age\"].mean()}, inplace=True)\n"
   ],
   "id": "9870b0929e466557",
   "outputs": [],
   "execution_count": 795
  },
  {
   "metadata": {
    "ExecuteTime": {
     "end_time": "2025-08-06T19:48:43.776455Z",
     "start_time": "2025-08-06T19:48:43.769224Z"
    }
   },
   "cell_type": "code",
   "source": [
    "#به این سه ستون نیازی نداریم چون هیچ ارتباطی بین آن ها وجود ندارد\n",
    "input_data.drop(columns=[\"PassengerId\",\"Name\",\"Ticket\"],inplace=True)\n"
   ],
   "id": "f23844d49ec3ae53",
   "outputs": [],
   "execution_count": 796
  },
  {
   "metadata": {},
   "cell_type": "markdown",
   "source": "Encode columns",
   "id": "ac3309dee0d66f64"
  },
  {
   "metadata": {
    "ExecuteTime": {
     "end_time": "2025-08-06T19:48:43.983612Z",
     "start_time": "2025-08-06T19:48:43.975579Z"
    }
   },
   "cell_type": "code",
   "source": [
    "#به دلیل آن که ستون های عددی برای نیاز داریم، ستون جنسیت را به صفر و یک تبدیل می کنیم\n",
    "input_data[\"Sex\"] = input_data[\"Sex\"].map({\"male\":1, \"female\":2})\n",
    "# هم چنین برای ستون Embarked هم در ابتدا به حرف اول جایی که سوار شدن عدد نگاشت می کنیم تا مشخص شود کدام بندر بیشترین تکرار را دارد تا آن را بجای مادیر خالی در این ستون بگزاریم\n",
    "input_data.fillna({\"Embarked\":\"S\"}, inplace=True)\n",
    "input_data[\"Embarked\"] = input_data[\"Embarked\"].map({\"S\":1, \"C\":2, \"Q\":3})\n",
    "#print(np.unique(input_data[\"Embarked\"].dropna(), return_counts=True))\n",
    "\n"
   ],
   "id": "b30f8a9c8a085063",
   "outputs": [],
   "execution_count": 797
  },
  {
   "metadata": {
    "ExecuteTime": {
     "end_time": "2025-08-06T19:48:44.109015Z",
     "start_time": "2025-08-06T19:48:44.101731Z"
    }
   },
   "cell_type": "code",
   "source": [
    "# در ستون کابین، حرف اول را فقط در نظر می گیریم و اعداد بعد از آن را در نظر نمی گیریم، سپس به بررسی تعداد مسافران در هر کابین می پردازیم\n",
    "input_data[\"Cabin\"] = input_data[\"Cabin\"].astype(str).str[0]\n",
    "print(input_data[\"Cabin\"].value_counts(dropna=False))"
   ],
   "id": "2c3927ef459a3d91",
   "outputs": [
    {
     "name": "stdout",
     "output_type": "stream",
     "text": [
      "Cabin\n",
      "n    687\n",
      "C     59\n",
      "B     47\n",
      "D     33\n",
      "E     32\n",
      "A     15\n",
      "F     13\n",
      "G      4\n",
      "T      1\n",
      "Name: count, dtype: int64\n"
     ]
    }
   ],
   "execution_count": 798
  },
  {
   "metadata": {
    "ExecuteTime": {
     "end_time": "2025-08-06T19:48:44.240644Z",
     "start_time": "2025-08-06T19:48:44.232058Z"
    }
   },
   "cell_type": "code",
   "source": [
    "# با توجه به نتیجه خروجی بالا، اگر همه موارد خالی را با مد ستون کابین پر کنیم، تحلیل مان اشتباه می شود چون اکثر مسافران می شوند از کابین c و هم چنین ممکن است که واقعا بعضی از افراد کابین نداشته باشند، پس یک دسته بندی جدید به نام unknown با مخفف u درست می کنیم و مقادیر خالی را با آن ها پر می کنیم\n",
    "\n",
    "input_data[\"Cabin\"] = input_data[\"Cabin\"].astype(str).str[0]\n",
    "\n",
    "input_data[\"Cabin\"] = input_data[\"Cabin\"].replace(\"n\", \"U\")\n",
    "\n",
    "input_data[\"Cabin\"] = input_data[\"Cabin\"].map({\n",
    "    \"A\":1, \"B\":2, \"C\":3, \"D\":4, \"E\":5, \"F\":6, \"G\":7, \"T\":8, \"U\":0\n",
    "})\n"
   ],
   "id": "df87cb5722881c06",
   "outputs": [],
   "execution_count": 799
  },
  {
   "metadata": {
    "ExecuteTime": {
     "end_time": "2025-08-06T19:48:44.368847Z",
     "start_time": "2025-08-06T19:48:44.363342Z"
    }
   },
   "cell_type": "code",
   "source": "input_data[\"Age\"]=input_data[\"Age\"].astype(np.uint8)\n",
   "id": "4b6575e349945dba",
   "outputs": [],
   "execution_count": 800
  },
  {
   "metadata": {
    "ExecuteTime": {
     "end_time": "2025-08-06T19:48:44.504723Z",
     "start_time": "2025-08-06T19:48:44.490446Z"
    }
   },
   "cell_type": "code",
   "source": [
    "#با استفاده از این تابع همه داده ها را بررسی کرده و تا جایی که امکان دارد آن ها را کاهش حجم می دهیم\n",
    "def auto_data_type(df):\n",
    "    for col in df.select_dtypes(include=[np.number]).columns:\n",
    "        min_value = df[col].min()\n",
    "        max_value = df[col].max()\n",
    "\n",
    "        if pd.api.types.is_float_dtype(df[col]):\n",
    "            df[col] = df[col].astype(np.float32)\n",
    "        elif min_value >= 0:\n",
    "            if max_value <= 255:\n",
    "                df[col] = df[col].astype(np.uint8)\n",
    "            elif max_value <= 65535:\n",
    "                df[col] = df[col].astype(np.uint16)\n",
    "            elif max_value <= 4294967295:\n",
    "                df[col] = df[col].astype(np.uint32)\n",
    "            else:\n",
    "                df[col] = df[col].astype(np.uint64)\n",
    "        else:\n",
    "            if -128 <= min_value and max_value <= 127:\n",
    "                df[col] = df[col].astype(np.int8)\n",
    "            elif -32768 <= min_value and max_value <= 32767:\n",
    "                df[col] = df[col].astype(np.int16)\n",
    "            elif -2147483648 <= min_value and max_value <= 2147483647:\n",
    "                df[col] = df[col].astype(np.int32)\n",
    "            else:\n",
    "                df[col] = df[col].astype(np.int64)\n",
    "    return df\n",
    "\n",
    "clean_df=auto_data_type(input_data)\n",
    "\n",
    "#به بررسی مقدار حجم کاهش یا فته می پردازیم تا تغییرات را مشاهده کنیم. همان طور که دیده می شود حدود 88 درصد کاهش حجم رخ داده است.\n",
    "clean_df.info()\n"
   ],
   "id": "892ef1e6ab9a9971",
   "outputs": [
    {
     "name": "stdout",
     "output_type": "stream",
     "text": [
      "<class 'pandas.core.frame.DataFrame'>\n",
      "RangeIndex: 891 entries, 0 to 890\n",
      "Data columns (total 9 columns):\n",
      " #   Column    Non-Null Count  Dtype  \n",
      "---  ------    --------------  -----  \n",
      " 0   Survived  891 non-null    uint8  \n",
      " 1   Pclass    891 non-null    uint8  \n",
      " 2   Sex       891 non-null    uint8  \n",
      " 3   Age       891 non-null    uint8  \n",
      " 4   SibSp     891 non-null    uint8  \n",
      " 5   Parch     891 non-null    uint8  \n",
      " 6   Fare      891 non-null    float32\n",
      " 7   Cabin     891 non-null    uint8  \n",
      " 8   Embarked  891 non-null    uint8  \n",
      "dtypes: float32(1), uint8(8)\n",
      "memory usage: 10.6 KB\n"
     ]
    }
   ],
   "execution_count": 801
  },
  {
   "metadata": {},
   "cell_type": "markdown",
   "source": "Remove outlier",
   "id": "1c537682e605dcf4"
  },
  {
   "metadata": {
    "ExecuteTime": {
     "end_time": "2025-08-06T19:48:44.939046Z",
     "start_time": "2025-08-06T19:48:44.635284Z"
    }
   },
   "cell_type": "code",
   "source": [
    "fig, axes = plt.subplots(nrows=1, ncols=4, figsize=(20,6))\n",
    "\n",
    "cols = [\"Age\", \"Fare\", \"SibSp\", \"Parch\"]\n",
    "\n",
    "for idx, ax in enumerate(axes.ravel()):\n",
    "    ax.boxplot(clean_df[cols[idx]])\n",
    "    ax.legend([cols[idx]])\n",
    "\n",
    "# از پلات زیر می توان نتیجه گرفت که یک نفر بیشترین Fare داشته. پس آن را حذف می کنیم\n",
    "clean_df = clean_df[clean_df[\"Fare\"] != clean_df[\"Fare\"].max()]"
   ],
   "id": "581e478ea92bc652",
   "outputs": [
    {
     "data": {
      "text/plain": [
       "<Figure size 2000x600 with 4 Axes>"
      ],
      "image/png": "[encoded data removed]"
     },
     "metadata": {},
     "output_type": "display_data"
    }
   ],
   "execution_count": 802
  },
  {
   "metadata": {},
   "cell_type": "markdown",
   "source": "EDA",
   "id": "5051c8ed00ead2f9"
  },
  {
   "metadata": {
    "ExecuteTime": {
     "end_time": "2025-08-06T19:48:45.931660Z",
     "start_time": "2025-08-06T19:48:44.943298Z"
    }
   },
   "cell_type": "code",
   "source": [
    "#جنسیت، پول بلیط و کلاس بلیط بیشترین تاثیر دارند.\n",
    "sns.heatmap(clean_df.corr(numeric_only=True), annot=True, fmt=\".2f\", cmap=\"coolwarm\")\n",
    "plt.title(\"Correlation\")\n",
    "plt.show()\n",
    "\n",
    "\n",
    "clean_df_by_sex = clean_df.groupby(\"Sex\")[\"Survived\"].mean()\n",
    "plt.figure(figsize=(14, 14))\n",
    "\n",
    "plt.subplot(3, 3, 1)\n",
    "#زنان نسبت به مردان نرخ نجات  بالاتری داشتند\n",
    "sns.barplot(x=clean_df_by_sex.index, y=clean_df_by_sex.values)\n",
    "plt.xticks([0, 1], [\"Male\", \"Female\"])\n",
    "plt.ylabel(\"Survival Rate\")\n",
    "plt.title(\"Survival Rate by Sex\")\n",
    "\n",
    "#مسافران کلاس 1 و کلاس 3 کمترین بیشتر نجات یافتند\n",
    "plt.subplot(3, 3, 2)\n",
    "sns.barplot(x=\"Pclass\", y=\"Survived\", data=clean_df)\n",
    "plt.title(\"Survival Rate by Class\")\n",
    "plt.ylabel(\"Survival Rate\")\n",
    "\n",
    "#مسافرانی که از بندر C سوار شده‌اند، بالاترین نرخ نجات را داشتند\n",
    "plt.subplot(3, 3, 3)\n",
    "sns.barplot(x=\"Embarked\", y=\"Survived\", data=clean_df)\n",
    "plt.xticks([0, 1, 2], [\"S\", \"C\", \"Q\"])\n",
    "plt.title(\"Survival Rate by Embark\")\n",
    "plt.ylabel(\"Survival Rate\")\n",
    "\n",
    "plt.tight_layout()\n",
    "plt.show()\n",
    "\n",
    "classes = [1, 2, 3]\n",
    "fig, axes = plt.subplots(nrows=1, ncols=3, figsize=(18, 5))\n",
    "\n",
    "#کلاس یک بیشتر و کلاس سه بسیار کمتر نجات پیدا کرده اند\n",
    "#در کلاس 1، زنان  یک مقدار بیشتر نسبت به مردان نجات یافتند.\n",
    "#در کلاس 2 زنان نسبت به مردان بیشتر نجات یافته بودند.\n",
    "# در کلاس ۳ تعداد نجات یافته ها کم بوده اما با این حال زنان بیشتر از مردان نجات یافته اند\n",
    "for idx, pclass in enumerate(classes):\n",
    "    ax = axes[idx]\n",
    "    class_df = clean_df[clean_df[\"Pclass\"] == pclass]\n",
    "    sns.countplot(data=clean_df, x=\"Sex\", hue=\"Survived\", ax=ax)\n",
    "    ax.set_xticks([0, 1])\n",
    "    ax.set_xticklabels([\"Male\", \"Female\"])\n",
    "    ax.set_title(f\"Survival by Gender in class {pclass}\")\n",
    "    ax.set_xlabel(\"Gender\")\n",
    "    ax.set_ylabel(\"Count\")\n",
    "\n",
    "plt.tight_layout()\n",
    "plt.show()\n",
    "\n",
    "# افرادی که کلاس 1 بودند و از بندر C سوار شده اند بیشتر نجات یافته اند\n",
    "\n",
    "fig = px.histogram(clean_df, x=\"Pclass\", color=\"Embarked\", barmode=\"group\", facet_col=\"Survived\",\n",
    "                   title=\"Survival by Class and Embarkation Port\")\n",
    "fig.show()\n"
   ],
   "id": "66d02a55d7c095e4",
   "outputs": [
    {
     "data": {
      "text/plain": [
       "<Figure size 640x480 with 2 Axes>"
      ],
      "image/png": "[encoded data removed]"
     },
     "metadata": {},
     "output_type": "display_data"
    },
    {
     "data": {
      "text/plain": [
       "<Figure size 1400x1400 with 3 Axes>"
      ],
      "image/png": "[encoded data removed]"
     },
     "metadata": {},
     "output_type": "display_data"
    },
    {
     "data": {
      "text/plain": [
       "<Figure size 1800x500 with 3 Axes>"
      ],
      "image/png": "[encoded data removed]"
     },
     "metadata": {},
     "output_type": "display_data"
    },
    {
     "data": {
      "application/vnd.plotly.v1+json": {
       "data": [
        {
         "alignmentgroup": "True",
         "bingroup": "x",
         "hovertemplate": "Embarked=1<br>Survived=0<br>Pclass=%{x}<br>count=%{y}<extra></extra>",
         "legendgroup": "1",
         "marker": {
          "color": "#636efa",
          "pattern": {
           "shape": ""
          }
         },
         "name": "1",
         "offsetgroup": "1",
         "orientation": "v",
         "showlegend": true,
         "x": {
          "dtype": "u1",
          "bdata": "AwMBAwMDAwMCAwEDAgEDAwMCAwMDAwMBAwMDAgMCAwMDAwEDAwMDAwEDAwMCAwMBAwMDAwEDAwMCAwIDAQMDAwIBAwICAwICAgMDAwMDAwMDAwMDAQMBAwMDAgMDAwEDAgMCAwMDAwMDAwICAgIDAwMDAgMDAgIDAgICAgMDAgMDAQMDAQECAwEDAgMDAQMDAwEDAwIDAgIDAwMDAQEDAwEBAgICAwMBAwMCAwMDAwMDAwMDAgMDAwMCAgMDAwMCAwMDAwIDAgMDAwMDAwEDAQIDAwIDAwEDAQIDAwIBAwMDAQIDAwMCAwMDAwMBAwMBAwMDAwMDAQMDAQMCAwEDAwMBAwIBAwIDAwMDAwMDAgIDAwMDAgMDAwEDAwMDAwMDAwIDAwEDAwEDAwIDAwMDAwMDAwIDAgEDAgIDAwECAgMDAwMDAgMDAwECAwMDAgEDAgMDAwICAwIDAgICAwMDAwEDAQMBAwMDAgMDAwMDAwMCAwEDAwMCAwMCAwIDAQMCAwMCAwMBAwMDAQMDAwMDAwMCAwMDAgMDAgMCAwIBAwMBAwMDAwMDAgMCAw=="
         },
         "xaxis": "x",
         "yaxis": "y",
         "type": "histogram"
        },
        {
         "alignmentgroup": "True",
         "bingroup": "x",
         "hovertemplate": "Embarked=1<br>Survived=1<br>Pclass=%{x}<br>count=%{y}<extra></extra>",
         "legendgroup": "1",
         "marker": {
          "color": "#636efa",
          "pattern": {
           "shape": ""
          }
         },
         "name": "1",
         "offsetgroup": "1",
         "orientation": "v",
         "showlegend": false,
         "x": {
          "dtype": "u1",
          "bdata": "AwEDAwECAgIBAwIBAgIBAgMDAgMDAgMBAgMDAgMCAQMDAwECAwEDAgMBAgMCAwIDAwECAQMCAgEBAgMDAQEDAgEDAwMCAQEBAwIBAgIDAQMCAQICAwMBAwECAQMDAgMCAwICAgIDAQMCAQICAgMBAgEBAQIBAgMDAQMBAgEDAQICAQICAgECAgIDAQMDAgEBAgEDAgECAgEBAgIBAQECAwMCAQMBAgIDAQEDAQIBAQECAgECAQEDAgIDAgIBAQECAwEBAwMBAwIBAwEBAwMBAgMBAwEBAQIDAQIB"
         },
         "xaxis": "x2",
         "yaxis": "y2",
         "type": "histogram"
        },
        {
         "alignmentgroup": "True",
         "bingroup": "x",
         "hovertemplate": "Embarked=2<br>Survived=0<br>Pclass=%{x}<br>count=%{y}<extra></extra>",
         "legendgroup": "2",
         "marker": {
          "color": "#EF553B",
          "pattern": {
           "shape": ""
          }
         },
         "name": "2",
         "offsetgroup": "2",
         "orientation": "v",
         "showlegend": true,
         "x": {
          "dtype": "u1",
          "bdata": "AwEBAwMBAwMBAwEDAwECAwIBAwEBAQIDAwMBAwIBAwIDAwIDAQEDAwEBAQMBAwMDAwEBAwMBAwMDAQMCAwEDAwEDAQEDAgMDAwMD"
         },
         "xaxis": "x",
         "yaxis": "y",
         "type": "histogram"
        },
        {
         "alignmentgroup": "True",
         "bingroup": "x",
         "hovertemplate": "Embarked=2<br>Survived=1<br>Pclass=%{x}<br>count=%{y}<extra></extra>",
         "legendgroup": "2",
         "marker": {
          "color": "#EF553B",
          "pattern": {
           "shape": ""
          }
         },
         "name": "2",
         "offsetgroup": "2",
         "orientation": "v",
         "showlegend": false,
         "x": {
          "dtype": "u1",
          "bdata": "AQIDAQMDAgEDAQMDAQEDAQEBAwEBAQEBAQEBAQEBAQEDAQEBAQMCAQMBAwMCAQEBAQMBAQIBAwEBAQEBAQIDAQEDAQEBAwEDAQEBAwMDAgMBAQEBAwICAwEB"
         },
         "xaxis": "x2",
         "yaxis": "y2",
         "type": "histogram"
        },
        {
         "alignmentgroup": "True",
         "bingroup": "x",
         "hovertemplate": "Embarked=3<br>Survived=0<br>Pclass=%{x}<br>count=%{y}<extra></extra>",
         "legendgroup": "3",
         "marker": {
          "color": "#00cc96",
          "pattern": {
           "shape": ""
          }
         },
         "name": "3",
         "offsetgroup": "3",
         "orientation": "v",
         "showlegend": true,
         "x": {
          "dtype": "u1",
          "bdata": "AwMDAwMDAwMDAwEDAwMDAwMDAwMDAwMDAwMDAwMDAgMDAwMDAwMDAwMDAwMDAwM="
         },
         "xaxis": "x",
         "yaxis": "y",
         "type": "histogram"
        },
        {
         "alignmentgroup": "True",
         "bingroup": "x",
         "hovertemplate": "Embarked=3<br>Survived=1<br>Pclass=%{x}<br>count=%{y}<extra></extra>",
         "legendgroup": "3",
         "marker": {
          "color": "#00cc96",
          "pattern": {
           "shape": ""
          }
         },
         "name": "3",
         "offsetgroup": "3",
         "orientation": "v",
         "showlegend": false,
         "x": {
          "dtype": "u1",
          "bdata": "AwMDAwMDAwMDAwMDAwMDAwICAwMDAwEDAwMDAwMD"
         },
         "xaxis": "x2",
         "yaxis": "y2",
         "type": "histogram"
        }
       ],
       "layout": {
        "template": {
         "data": {
          "histogram2dcontour": [
           {
            "type": "histogram2dcontour",
            "colorbar": {
             "outlinewidth": 0,
             "ticks": ""
            },
            "colorscale": [
             [
              0.0,
              "#0d0887"
             ],
             [
              0.1111111111111111,
              "#46039f"
             ],
             [
              0.2222222222222222,
              "#7201a8"
             ],
             [
              0.3333333333333333,
              "#9c179e"
             ],
             [
              0.4444444444444444,
              "#bd3786"
             ],
             [
              0.5555555555555556,
              "#d8576b"
             ],
             [
              0.6666666666666666,
              "#ed7953"
             ],
             [
              0.7777777777777778,
              "#fb9f3a"
             ],
             [
              0.8888888888888888,
              "#fdca26"
             ],
             [
              1.0,
              "#f0f921"
             ]
            ]
           }
          ],
          "choropleth": [
           {
            "type": "choropleth",
            "colorbar": {
             "outlinewidth": 0,
             "ticks": ""
            }
           }
          ],
          "histogram2d": [
           {
            "type": "histogram2d",
            "colorbar": {
             "outlinewidth": 0,
             "ticks": ""
            },
            "colorscale": [
             [
              0.0,
              "#0d0887"
             ],
             [
              0.1111111111111111,
              "#46039f"
             ],
             [
              0.2222222222222222,
              "#7201a8"
             ],
             [
              0.3333333333333333,
              "#9c179e"
             ],
             [
              0.4444444444444444,
              "#bd3786"
             ],
             [
              0.5555555555555556,
              "#d8576b"
             ],
             [
              0.6666666666666666,
              "#ed7953"
             ],
             [
              0.7777777777777778,
              "#fb9f3a"
             ],
             [
              0.8888888888888888,
              "#fdca26"
             ],
             [
              1.0,
              "#f0f921"
             ]
            ]
           }
          ],
          "heatmap": [
           {
            "type": "heatmap",
            "colorbar": {
             "outlinewidth": 0,
             "ticks": ""
            },
            "colorscale": [
             [
              0.0,
              "#0d0887"
             ],
             [
              0.1111111111111111,
              "#46039f"
             ],
             [
              0.2222222222222222,
              "#7201a8"
             ],
             [
              0.3333333333333333,
              "#9c179e"
             ],
             [
              0.4444444444444444,
              "#bd3786"
             ],
             [
              0.5555555555555556,
              "#d8576b"
             ],
             [
              0.6666666666666666,
              "#ed7953"
             ],
             [
              0.7777777777777778,
              "#fb9f3a"
             ],
             [
              0.8888888888888888,
              "#fdca26"
             ],
             [
              1.0,
              "#f0f921"
             ]
            ]
           }
          ],
          "contourcarpet": [
           {
            "type": "contourcarpet",
            "colorbar": {
             "outlinewidth": 0,
             "ticks": ""
            }
           }
          ],
          "contour": [
           {
            "type": "contour",
            "colorbar": {
             "outlinewidth": 0,
             "ticks": ""
            },
            "colorscale": [
             [
              0.0,
              "#0d0887"
             ],
             [
              0.1111111111111111,
              "#46039f"
             ],
             [
              0.2222222222222222,
              "#7201a8"
             ],
             [
              0.3333333333333333,
              "#9c179e"
             ],
             [
              0.4444444444444444,
              "#bd3786"
             ],
             [
              0.5555555555555556,
              "#d8576b"
             ],
             [
              0.6666666666666666,
              "#ed7953"
             ],
             [
              0.7777777777777778,
              "#fb9f3a"
             ],
             [
              0.8888888888888888,
              "#fdca26"
             ],
             [
              1.0,
              "#f0f921"
             ]
            ]
           }
          ],
          "surface": [
           {
            "type": "surface",
            "colorbar": {
             "outlinewidth": 0,
             "ticks": ""
            },
            "colorscale": [
             [
              0.0,
              "#0d0887"
             ],
             [
              0.1111111111111111,
              "#46039f"
             ],
             [
              0.2222222222222222,
              "#7201a8"
             ],
             [
              0.3333333333333333,
              "#9c179e"
             ],
             [
              0.4444444444444444,
              "#bd3786"
             ],
             [
              0.5555555555555556,
              "#d8576b"
             ],
             [
              0.6666666666666666,
              "#ed7953"
             ],
             [
              0.7777777777777778,
              "#fb9f3a"
             ],
             [
              0.8888888888888888,
              "#fdca26"
             ],
             [
              1.0,
              "#f0f921"
             ]
            ]
           }
          ],
          "mesh3d": [
           {
            "type": "mesh3d",
            "colorbar": {
             "outlinewidth": 0,
             "ticks": ""
            }
           }
          ],
          "scatter": [
           {
            "marker": {
             "line": {
              "color": "#283442"
             }
            },
            "type": "scatter"
           }
          ],
          "parcoords": [
           {
            "type": "parcoords",
            "line": {
             "colorbar": {
              "outlinewidth": 0,
              "ticks": ""
             }
            }
           }
          ],
          "scatterpolargl": [
           {
            "type": "scatterpolargl",
            "marker": {
             "colorbar": {
              "outlinewidth": 0,
              "ticks": ""
             }
            }
           }
          ],
          "bar": [
           {
            "error_x": {
             "color": "#f2f5fa"
            },
            "error_y": {
             "color": "#f2f5fa"
            },
            "marker": {
             "line": {
              "color": "rgb(17,17,17)",
              "width": 0.5
             },
             "pattern": {
              "fillmode": "overlay",
              "size": 10,
              "solidity": 0.2
             }
            },
            "type": "bar"
           }
          ],
          "scattergeo": [
           {
            "type": "scattergeo",
            "marker": {
             "colorbar": {
              "outlinewidth": 0,
              "ticks": ""
             }
            }
           }
          ],
          "scatterpolar": [
           {
            "type": "scatterpolar",
            "marker": {
             "colorbar": {
              "outlinewidth": 0,
              "ticks": ""
             }
            }
           }
          ],
          "histogram": [
           {
            "marker": {
             "pattern": {
              "fillmode": "overlay",
              "size": 10,
              "solidity": 0.2
             }
            },
            "type": "histogram"
           }
          ],
          "scattergl": [
           {
            "marker": {
             "line": {
              "color": "#283442"
             }
            },
            "type": "scattergl"
           }
          ],
          "scatter3d": [
           {
            "type": "scatter3d",
            "line": {
             "colorbar": {
              "outlinewidth": 0,
              "ticks": ""
             }
            },
            "marker": {
             "colorbar": {
              "outlinewidth": 0,
              "ticks": ""
             }
            }
           }
          ],
          "scattermap": [
           {
            "type": "scattermap",
            "marker": {
             "colorbar": {
              "outlinewidth": 0,
              "ticks": ""
             }
            }
           }
          ],
          "scattermapbox": [
           {
            "type": "scattermapbox",
            "marker": {
             "colorbar": {
              "outlinewidth": 0,
              "ticks": ""
             }
            }
           }
          ],
          "scatterternary": [
           {
            "type": "scatterternary",
            "marker": {
             "colorbar": {
              "outlinewidth": 0,
              "ticks": ""
             }
            }
           }
          ],
          "scattercarpet": [
           {
            "type": "scattercarpet",
            "marker": {
             "colorbar": {
              "outlinewidth": 0,
              "ticks": ""
             }
            }
           }
          ],
          "carpet": [
           {
            "aaxis": {
             "endlinecolor": "#A2B1C6",
             "gridcolor": "#506784",
             "linecolor": "#506784",
             "minorgridcolor": "#506784",
             "startlinecolor": "#A2B1C6"
            },
            "baxis": {
             "endlinecolor": "#A2B1C6",
             "gridcolor": "#506784",
             "linecolor": "#506784",
             "minorgridcolor": "#506784",
             "startlinecolor": "#A2B1C6"
            },
            "type": "carpet"
           }
          ],
          "table": [
           {
            "cells": {
             "fill": {
              "color": "#506784"
             },
             "line": {
              "color": "rgb(17,17,17)"
             }
            },
            "header": {
             "fill": {
              "color": "#2a3f5f"
             },
             "line": {
              "color": "rgb(17,17,17)"
             }
            },
            "type": "table"
           }
          ],
          "barpolar": [
           {
            "marker": {
             "line": {
              "color": "rgb(17,17,17)",
              "width": 0.5
             },
             "pattern": {
              "fillmode": "overlay",
              "size": 10,
              "solidity": 0.2
             }
            },
            "type": "barpolar"
           }
          ],
          "pie": [
           {
            "automargin": true,
            "type": "pie"
           }
          ]
         },
         "layout": {
          "autotypenumbers": "strict",
          "colorway": [
           "#636efa",
           "#EF553B",
           "#00cc96",
           "#ab63fa",
           "#FFA15A",
           "#19d3f3",
           "#FF6692",
           "#B6E880",
           "#FF97FF",
           "#FECB52"
          ],
          "font": {
           "color": "#f2f5fa"
          },
          "hovermode": "closest",
          "hoverlabel": {
           "align": "left"
          },
          "paper_bgcolor": "rgb(17,17,17)",
          "plot_bgcolor": "rgb(17,17,17)",
          "polar": {
           "bgcolor": "rgb(17,17,17)",
           "angularaxis": {
            "gridcolor": "#506784",
            "linecolor": "#506784",
            "ticks": ""
           },
           "radialaxis": {
            "gridcolor": "#506784",
            "linecolor": "#506784",
            "ticks": ""
           }
          },
          "ternary": {
           "bgcolor": "rgb(17,17,17)",
           "aaxis": {
            "gridcolor": "#506784",
            "linecolor": "#506784",
            "ticks": ""
           },
           "baxis": {
            "gridcolor": "#506784",
            "linecolor": "#506784",
            "ticks": ""
           },
           "caxis": {
            "gridcolor": "#506784",
            "linecolor": "#506784",
            "ticks": ""
           }
          },
          "coloraxis": {
           "colorbar": {
            "outlinewidth": 0,
            "ticks": ""
           }
          },
          "colorscale": {
           "sequential": [
            [
             0.0,
             "#0d0887"
            ],
            [
             0.1111111111111111,
             "#46039f"
            ],
            [
             0.2222222222222222,
             "#7201a8"
            ],
            [
             0.3333333333333333,
             "#9c179e"
            ],
            [
             0.4444444444444444,
             "#bd3786"
            ],
            [
             0.5555555555555556,
             "#d8576b"
            ],
            [
             0.6666666666666666,
             "#ed7953"
            ],
            [
             0.7777777777777778,
             "#fb9f3a"
            ],
            [
             0.8888888888888888,
             "#fdca26"
            ],
            [
             1.0,
             "#f0f921"
            ]
           ],
           "sequentialminus": [
            [
             0.0,
             "#0d0887"
            ],
            [
             0.1111111111111111,
             "#46039f"
            ],
            [
             0.2222222222222222,
             "#7201a8"
            ],
            [
             0.3333333333333333,
             "#9c179e"
            ],
            [
             0.4444444444444444,
             "#bd3786"
            ],
            [
             0.5555555555555556,
             "#d8576b"
            ],
            [
             0.6666666666666666,
             "#ed7953"
            ],
            [
             0.7777777777777778,
             "#fb9f3a"
            ],
            [
             0.8888888888888888,
             "#fdca26"
            ],
            [
             1.0,
             "#f0f921"
            ]
           ],
           "diverging": [
            [
             0,
             "#8e0152"
            ],
            [
             0.1,
             "#c51b7d"
            ],
            [
             0.2,
             "#de77ae"
            ],
            [
             0.3,
             "#f1b6da"
            ],
            [
             0.4,
             "#fde0ef"
            ],
            [
             0.5,
             "#f7f7f7"
            ],
            [
             0.6,
             "#e6f5d0"
            ],
            [
             0.7,
             "#b8e186"
            ],
            [
             0.8,
             "#7fbc41"
            ],
            [
             0.9,
             "#4d9221"
            ],
            [
             1,
             "#276419"
            ]
           ]
          },
          "xaxis": {
           "gridcolor": "#283442",
           "linecolor": "#506784",
           "ticks": "",
           "title": {
            "standoff": 15
           },
           "zerolinecolor": "#283442",
           "automargin": true,
           "zerolinewidth": 2
          },
          "yaxis": {
           "gridcolor": "#283442",
           "linecolor": "#506784",
           "ticks": "",
           "title": {
            "standoff": 15
           },
           "zerolinecolor": "#283442",
           "automargin": true,
           "zerolinewidth": 2
          },
          "scene": {
           "xaxis": {
            "backgroundcolor": "rgb(17,17,17)",
            "gridcolor": "#506784",
            "linecolor": "#506784",
            "showbackground": true,
            "ticks": "",
            "zerolinecolor": "#C8D4E3",
            "gridwidth": 2
           },
           "yaxis": {
            "backgroundcolor": "rgb(17,17,17)",
            "gridcolor": "#506784",
            "linecolor": "#506784",
            "showbackground": true,
            "ticks": "",
            "zerolinecolor": "#C8D4E3",
            "gridwidth": 2
           },
           "zaxis": {
            "backgroundcolor": "rgb(17,17,17)",
            "gridcolor": "#506784",
            "linecolor": "#506784",
            "showbackground": true,
            "ticks": "",
            "zerolinecolor": "#C8D4E3",
            "gridwidth": 2
           }
          },
          "shapedefaults": {
           "line": {
            "color": "#f2f5fa"
           }
          },
          "annotationdefaults": {
           "arrowcolor": "#f2f5fa",
           "arrowhead": 0,
           "arrowwidth": 1
          },
          "geo": {
           "bgcolor": "rgb(17,17,17)",
           "landcolor": "rgb(17,17,17)",
           "subunitcolor": "#506784",
           "showland": true,
           "showlakes": true,
           "lakecolor": "rgb(17,17,17)"
          },
          "title": {
           "x": 0.05
          },
          "updatemenudefaults": {
           "bgcolor": "#506784",
           "borderwidth": 0
          },
          "sliderdefaults": {
           "bgcolor": "#C8D4E3",
           "borderwidth": 1,
           "bordercolor": "rgb(17,17,17)",
           "tickwidth": 0
          },
          "mapbox": {
           "style": "dark"
          }
         }
        },
        "xaxis": {
         "anchor": "y",
         "domain": [
          0.0,
          0.49
         ],
         "title": {
          "text": "Pclass"
         }
        },
        "yaxis": {
         "anchor": "x",
         "domain": [
          0.0,
          1.0
         ],
         "title": {
          "text": "count"
         }
        },
        "xaxis2": {
         "anchor": "y2",
         "domain": [
          0.51,
          1.0
         ],
         "matches": "x",
         "title": {
          "text": "Pclass"
         }
        },
        "yaxis2": {
         "anchor": "x2",
         "domain": [
          0.0,
          1.0
         ],
         "matches": "y",
         "showticklabels": false
        },
        "annotations": [
         {
          "font": {},
          "showarrow": false,
          "text": "Survived=0",
          "x": 0.245,
          "xanchor": "center",
          "xref": "paper",
          "y": 1.0,
          "yanchor": "bottom",
          "yref": "paper"
         },
         {
          "font": {},
          "showarrow": false,
          "text": "Survived=1",
          "x": 0.755,
          "xanchor": "center",
          "xref": "paper",
          "y": 1.0,
          "yanchor": "bottom",
          "yref": "paper"
         }
        ],
        "legend": {
         "title": {
          "text": "Embarked"
         },
         "tracegroupgap": 0
        },
        "title": {
         "text": "Survival by Class and Embarkation Port"
        },
        "barmode": "group"
       },
       "config": {
        "plotlyServerURL": "https://plot.ly"
       }
      }
     },
     "metadata": {},
     "output_type": "display_data"
    }
   ],
   "execution_count": 803
  },
  {
   "metadata": {},
   "cell_type": "markdown",
   "source": "Supervised models",
   "id": "5d7e00399c0d81cd"
  },
  {
   "metadata": {
    "ExecuteTime": {
     "end_time": "2025-08-06T19:48:46.124858Z",
     "start_time": "2025-08-06T19:48:46.106607Z"
    }
   },
   "cell_type": "code",
   "source": [
    "# ابتدا داده ها را استاندارد سازی و به داده های train, test تقسیم می کنیم\n",
    "main_df = clean_df.copy()\n",
    "X = main_df.drop(columns=['Survived'])\n",
    "y = main_df['Survived']\n",
    "# مدل knn را با k های مختلف تست شده ونتایج متغیر بود. یکی از کارهایی که میشه انجام داد تا به نتیجه یکسان برسیم این است که پارامتر های  random_state که نشان دهنده تقسیم داده‌ها در هر اجرا  و پارامتر stratify  که  توزیع یکسان نسبت کلاس ‌های بقا در داده های آموزش و تست را بر عهده دارد را ست کنیم.\n",
    "X_train, X_test, y_train, y_test = train_test_split(X, y, test_size=0.2,random_state=42,stratify=y)\n",
    "\n",
    "scaler = StandardScaler()\n",
    "X_train_s = scaler.fit_transform(X_train)\n",
    "X_test_s  = scaler.transform(X_test)"
   ],
   "id": "9175da2520ca24e1",
   "outputs": [],
   "execution_count": 804
  },
  {
   "metadata": {},
   "cell_type": "markdown",
   "source": "LogisticRegression model",
   "id": "369299c0ff6731a4"
  },
  {
   "metadata": {
    "ExecuteTime": {
     "end_time": "2025-08-06T19:48:46.279909Z",
     "start_time": "2025-08-06T19:48:46.258834Z"
    }
   },
   "cell_type": "code",
   "source": [
    "model_logistic = LogisticRegression()\n",
    "\n",
    "t0 = time.time()\n",
    "model_logistic.fit(X_train_s, y_train)\n",
    "t1 = time.time()\n",
    "\n",
    "y_pred_default = model_logistic.predict(X_test_s)\n",
    "t2 = time.time()\n",
    "\n",
    "train_time_logistic   = t1 - t0\n",
    "test_time_logistic = t2 - t1\n",
    "acc_logistic= accuracy_score(y_test, y_pred_default)\n",
    "prec_logistic= precision_score(y_test, y_pred_default)\n",
    "recall_logistic= recall_score(y_test, y_pred_default)\n",
    "f1_logistic= f1_score(y_test, y_pred_default)"
   ],
   "id": "ab21f1fe5128e31",
   "outputs": [],
   "execution_count": 805
  },
  {
   "metadata": {},
   "cell_type": "markdown",
   "source": "Find best K",
   "id": "8af1603b2ecd096d"
  },
  {
   "metadata": {
    "ExecuteTime": {
     "end_time": "2025-08-06T19:48:46.607240Z",
     "start_time": "2025-08-06T19:48:46.422543Z"
    }
   },
   "cell_type": "code",
   "source": [
    "# با استفاده از f1-score در هر مرحله از انتخاب k بررسی می کنیم که مقدار k چقدر باشد تا بیشترین دقت را داشته باشیم.\n",
    "k_range = range(1, 21)\n",
    "f1_scores = []\n",
    "for k in k_range:\n",
    "    knn = KNeighborsClassifier(n_neighbors=k)\n",
    "    knn.fit(X_train_s, y_train)\n",
    "    y_pred = knn.predict(X_test_s)\n",
    "    f1_scores.append(f1_score(y_test, y_pred))\n",
    "\n",
    "plt.figure(figsize=(6,4))\n",
    "plt.plot(k_range, f1_scores)\n",
    "plt.xticks(k_range)\n",
    "plt.xlabel('k')\n",
    "plt.ylabel('Mean F1-score')\n",
    "plt.grid(True)\n",
    "plt.show()"
   ],
   "id": "15b6309c781fff9d",
   "outputs": [
    {
     "data": {
      "text/plain": [
       "<Figure size 600x400 with 1 Axes>"
      ],
      "image/png": "[encoded data removed]"
     },
     "metadata": {},
     "output_type": "display_data"
    }
   ],
   "execution_count": 806
  },
  {
   "metadata": {},
   "cell_type": "markdown",
   "source": "KNN model",
   "id": "5bb3fcb844bcf2c7"
  },
  {
   "metadata": {
    "ExecuteTime": {
     "end_time": "2025-08-06T19:48:46.704768Z",
     "start_time": "2025-08-06T19:48:46.687688Z"
    }
   },
   "cell_type": "code",
   "source": [
    "# با توجه به نمودار بالا مقدار k را برابر 3 قرار می دهیم\n",
    "model_knn = KNeighborsClassifier(n_neighbors=3)\n",
    "t0 = time.time()\n",
    "model_knn.fit(X_train_s, y_train)\n",
    "t1 = time.time()\n",
    "y_pred_knn = model_knn.predict(X_test_s)\n",
    "t2 = time.time()\n",
    "train_time_knn= t1 - t0\n",
    "test_time_knn= t2 - t1\n",
    "acc_knn= accuracy_score(y_test, y_pred_knn)\n",
    "prec_knn= precision_score(y_test, y_pred_knn)\n",
    "recall_knn= recall_score(y_test, y_pred_knn)\n",
    "f1_knn= f1_score(y_test, y_pred_knn)"
   ],
   "id": "19ad138481dad904",
   "outputs": [],
   "execution_count": 807
  },
  {
   "metadata": {
    "ExecuteTime": {
     "end_time": "2025-08-06T19:48:46.808674Z",
     "start_time": "2025-08-06T19:48:46.800755Z"
    }
   },
   "cell_type": "code",
   "source": [
    "result = [\n",
    "    [\"LogisticRegression\",train_time_logistic, test_time_logistic, acc_logistic,prec_logistic,recall_logistic,f1_logistic],\n",
    "    [\"KNN\",train_time_knn,test_time_knn,acc_knn,prec_knn,recall_knn,f1_knn]\n",
    "]\n",
    "\n",
    "print(tabulate(\n",
    "    result,\n",
    "    headers=[\"Model\",\"Train Time\",\"Predict Time\",\"Accuracy\",\"Precision\",\"Recall\",\"F1-score\"],\n",
    "    tablefmt=\"github\",\n",
    "    floatfmt=\".4f\"\n",
    "))"
   ],
   "id": "4638b0538bd12ac9",
   "outputs": [
    {
     "name": "stdout",
     "output_type": "stream",
     "text": [
      "| Model              |   Train Time |   Predict Time |   Accuracy |   Precision |   Recall |   F1-score |\n",
      "|--------------------|--------------|----------------|------------|-------------|----------|------------|\n",
      "| LogisticRegression |       0.0101 |         0.0000 |     0.8427 |      0.8125 |   0.7647 |     0.7879 |\n",
      "| KNN                |       0.0025 |         0.0031 |     0.8146 |      0.7465 |   0.7794 |     0.7626 |\n"
     ]
    }
   ],
   "execution_count": 808
  },
  {
   "metadata": {},
   "cell_type": "markdown",
   "source": "Find the best parameters value in clustering models",
   "id": "c764340f79ad686f"
  },
  {
   "metadata": {
    "ExecuteTime": {
     "end_time": "2025-08-06T19:48:49.232195Z",
     "start_time": "2025-08-06T19:48:46.933897Z"
    }
   },
   "cell_type": "code",
   "source": [
    "# بر اساس معیار silhouette_score مناسب ترین مقادیر برای پارامتر های مدل های خوشه بندی را بدست می آوریم\n",
    "# هم چنین با استفاده از معیار calinski_harabasz_score می توانستیم این پارامتر ها را تعیین کنیم\n",
    "X_cluster = clean_df.drop(columns=[\"Survived\"])\n",
    "kmeans_best = (0, 0.0)\n",
    "dbscan_best = (0.0, 0, 0.0)\n",
    "hdbscan_best = (0, 0.0)\n",
    "\n",
    "#\n",
    "kmeans_max_sil = -1\n",
    "dbscan_max_sil = -1\n",
    "hdbscan_max_sil = -1\n",
    "\n",
    "for k in range(2, 20):\n",
    "    model = KMeans(n_clusters=k, random_state=42)\n",
    "    labels = model.fit_predict(X_cluster)\n",
    "    if len(set(labels)) <= 1:\n",
    "        continue\n",
    "    sil = silhouette_score(X_cluster, labels)\n",
    "    \n",
    "    if sil > kmeans_max_sil:\n",
    "        kmeans_max_sil = sil\n",
    "        kmeans_best = (k, sil)\n",
    "\n",
    "for eps in np.arange(0.1, 1.0, 0.1):\n",
    "    for min_samples in range(2, 20, 2):\n",
    "        model = DBSCAN(eps=eps, min_samples=min_samples)\n",
    "        labels = model.fit_predict(X_cluster)\n",
    "        if len(set(labels)) <= 1 or np.all(labels == -1):\n",
    "            continue\n",
    "        sil = silhouette_score(X_cluster, labels)\n",
    "        \n",
    "        if sil > dbscan_max_sil:\n",
    "            dbscan_max_sil = sil\n",
    "            dbscan_best = (eps, min_samples, sil)\n",
    "\n",
    "for size in range(2, 20, 2):\n",
    "    model = HDBSCAN(min_cluster_size=size)\n",
    "    labels = model.fit_predict(X_cluster)\n",
    "    if len(set(labels)) <= 1 or np.all(labels == -1):\n",
    "        continue\n",
    "    sil = silhouette_score(X_cluster, labels)\n",
    "    \n",
    "    if sil > hdbscan_max_sil:\n",
    "        hdbscan_max_sil = sil\n",
    "        hdbscan_best = (size, sil)\n",
    "\n",
    "print(f\"n_clusters = {kmeans_best[0]}\")\n",
    "print(f\"eps = {dbscan_best[0]}, min_samples = {dbscan_best[1]}\")\n",
    "print(f\"min_cluster_size = {hdbscan_best[0]}\")\n",
    "\n"
   ],
   "id": "7026d300c7807994",
   "outputs": [
    {
     "name": "stdout",
     "output_type": "stream",
     "text": [
      "n_clusters = 2\n",
      "eps = 0.8, min_samples = 2\n",
      "min_cluster_size = 2\n"
     ]
    }
   ],
   "execution_count": 809
  },
  {
   "metadata": {},
   "cell_type": "markdown",
   "source": " Evaluate Classifier Models with Clustered Data",
   "id": "5e267e85920b17c8"
  },
  {
   "metadata": {
    "ExecuteTime": {
     "end_time": "2025-08-06T19:48:49.470598Z",
     "start_time": "2025-08-06T19:48:49.306464Z"
    }
   },
   "cell_type": "code",
   "source": [
    "# داده ها را برای خوشه بندی استاندارد سازی می کنیم\n",
    "scaler = StandardScaler()\n",
    "X_scaled = scaler.fit_transform(clean_df.drop(columns=[\"Survived\"]))\n",
    "\n",
    "#  الگوریتم‌ های خوشه‌ بندی را اجرا می کنیم\n",
    "clean_df = clean_df.copy()\n",
    "clean_df.loc[:, \"cluster_KMeans\"] = KMeans(n_clusters=kmeans_best[0], random_state=42).fit_predict(X_scaled)\n",
    "clean_df.loc[:, \"cluster_DBSCAN\"] = DBSCAN(eps=dbscan_best[0], min_samples=dbscan_best[1]).fit_predict(X_scaled)\n",
    "clean_df.loc[:, \"cluster_HDBSCAN\"] = HDBSCAN(min_cluster_size=hdbscan_best[0]).fit_predict(X_scaled)\n",
    "\n",
    "# 3. حذف نقاط outlier از  DBSCAN\n",
    "df_inliers = clean_df[clean_df[\"cluster_DBSCAN\"] != -1].copy()\n",
    "\n",
    "models = [(\"cluster_KMeans\", \"KMeans\"), (\"cluster_DBSCAN\", \"DBSCAN\"), (\"cluster_HDBSCAN\", \"HDBSCAN\")]\n",
    "\n",
    "results = []\n",
    "\n",
    "# 5.  مدل‌های طبقه ‌بندی knn , LogisticRegression روی هر خوشه‌بندی اجرا می کنیم تا تاثیر خوشه بندی را بتوانیم متوجه شویم\n",
    "for pair in models:\n",
    "    cluster_col = pair[0]\n",
    "    name = pair[1]\n",
    "\n",
    "    #  ستون ‌های اضافی مدل های قبلی خوشه ‌بندی را در نظر نمی گیریم\n",
    "    other_clusters = []\n",
    "    for item in models:\n",
    "        col_name = item[0]\n",
    "        if col_name != cluster_col:\n",
    "            other_clusters.append(col_name)\n",
    "\n",
    "    #    دو مدل طبقه‌بندی LogisticRegression و KNN را بر روی هر مدل خوشه بندی اجرا می کنیم\n",
    "    for clf_item in [(LogisticRegression(), \"LogisticRegression\"), (KNeighborsClassifier(n_neighbors=3), \"KNN\")]:\n",
    "        clf = clf_item[0]\n",
    "        clf_name = clf_item[1]\n",
    "\n",
    "        # ستون survived در نظر نمی گیریم چون قرار هست لیبل بزنیم\n",
    "        X = df_inliers.drop(columns=[\"Survived\"] + other_clusters)\n",
    "        y = df_inliers[\"Survived\"]\n",
    "\n",
    "        # تقسیم داده به آموزش و تست و انجام استاندارد سازی مجدد برای مدل ‌های طبقه ‌بندی\n",
    "        X_train, X_test, y_train, y_test = train_test_split(X, y, test_size=0.2, random_state=42, stratify=y)\n",
    "        scaler = StandardScaler()\n",
    "        X_train = scaler.fit_transform(X_train)\n",
    "        X_test = scaler.transform(X_test)\n",
    "\n",
    "        t0 = time.time()\n",
    "        clf.fit(X_train, y_train)\n",
    "        t1 = time.time()\n",
    "        y_pred = clf.predict(X_test)\n",
    "        t2 = time.time()\n",
    "\n",
    "        results.append([\n",
    "            name + \" + \" + clf_name,\n",
    "            t1 - t0,\n",
    "            t2 - t1,\n",
    "            accuracy_score(y_test, y_pred),\n",
    "            precision_score(y_test, y_pred),\n",
    "            recall_score(y_test, y_pred),\n",
    "            f1_score(y_test, y_pred)\n",
    "        ])\n",
    "\n",
    "print(tabulate(\n",
    "    results,\n",
    "    headers=[\"Model\", \"Train Time\", \"Predict Time\", \"Accuracy\", \"Precision\", \"Recall\", \"F1-score\"],\n",
    "    tablefmt=\"github\",\n",
    "    floatfmt=\".4f\"\n",
    "))\n"
   ],
   "id": "598488e2ff040232",
   "outputs": [
    {
     "name": "stdout",
     "output_type": "stream",
     "text": [
      "| Model                        |   Train Time |   Predict Time |   Accuracy |   Precision |   Recall |   F1-score |\n",
      "|------------------------------|--------------|----------------|------------|-------------|----------|------------|\n",
      "| KMeans + LogisticRegression  |       0.0088 |         0.0000 |     0.8462 |      0.7907 |   0.7234 |     0.7556 |\n",
      "| KMeans + KNN                 |       0.0000 |         0.0000 |     0.8182 |      0.7561 |   0.6596 |     0.7045 |\n",
      "| DBSCAN + LogisticRegression  |       0.0000 |         0.0000 |     0.8531 |      0.8095 |   0.7234 |     0.7640 |\n",
      "| DBSCAN + KNN                 |       0.0000 |         0.0000 |     0.8462 |      0.7907 |   0.7234 |     0.7556 |\n",
      "| HDBSCAN + LogisticRegression |       0.0000 |         0.0000 |     0.8462 |      0.8049 |   0.7021 |     0.7500 |\n",
      "| HDBSCAN + KNN                |       0.0000 |         0.0000 |     0.7972 |      0.6875 |   0.7021 |     0.6947 |\n"
     ]
    }
   ],
   "execution_count": 810
  }
 ],
 "metadata": {
  "kernelspec": {
   "display_name": "Python 3",
   "language": "python",
   "name": "python3"
  },
  "language_info": {
   "codemirror_mode": {
    "name": "ipython",
    "version": 2
   },
   "file_extension": ".py",
   "mimetype": "text/x-python",
   "name": "python",
   "nbconvert_exporter": "python",
   "pygments_lexer": "ipython2",
   "version": "2.7.6"
  }
 },
 "nbformat": 4,
 "nbformat_minor": 5
}
