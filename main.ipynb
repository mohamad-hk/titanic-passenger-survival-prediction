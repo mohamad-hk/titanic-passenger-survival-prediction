{
 "cells": [
  {
   "metadata": {},
   "cell_type": "code",
   "source": [
    "import pandas as pd\n",
    "import numpy as np\n",
    "import  matplotlib.pyplot as plt"
   ],
   "id": "fbc121e30a2defb3",
   "outputs": [],
   "execution_count": null
  },
  {
   "metadata": {},
   "cell_type": "markdown",
   "source": "Data Extraction",
   "id": "23e857b36a34f774"
  },
  {
   "metadata": {},
   "cell_type": "code",
   "source": [
    "#در این بخش دیتا ها را می خوانیم تا ساختار داده ها را بررسی کنیم\n",
    "input_data=pd.read_csv(\"titanic.csv\")\n",
    "#input_data\n",
    "input_data.info()\n",
    "#input_data.describe()"
   ],
   "id": "72d9447b3b897a95",
   "outputs": [],
   "execution_count": null
  },
  {
   "metadata": {},
   "cell_type": "code",
   "source": [
    "#ابتدا چک می کنیم در کدام ستون ها مقدار خالی وجود دارد\n",
    "input_data.isna().sum()"
   ],
   "id": "24a85c9513b70230",
   "outputs": [],
   "execution_count": null
  },
  {
   "metadata": {},
   "cell_type": "code",
   "source": [
    "#در ستون سن مقادیر خالی ای وجود دارد و برای این که در نتایج مان تاثیر نگذارد آن مقادیر را با میانگین سن مسافران پر می کنیم\n",
    "input_data.fillna({\"Age\":input_data[\"Age\"].mean()}, inplace=True)\n"
   ],
   "id": "9870b0929e466557",
   "outputs": [],
   "execution_count": null
  },
  {
   "metadata": {},
   "cell_type": "code",
   "source": [
    "#به این سه ستون نیازی نداریم چون هیچ ارتباطی بین آن ها وجود ندارد\n",
    "input_data.drop(columns=[\"PassengerId\",\"Name\",\"Ticket\"],inplace=True)\n"
   ],
   "id": "f23844d49ec3ae53",
   "outputs": [],
   "execution_count": null
  },
  {
   "metadata": {},
   "cell_type": "code",
   "source": [
    "#به دلیل آن که ستون های عددی برای نیاز داریم، ستون جنسیت را به صفر و یک تبدیل می کنیم\n",
    "input_data[\"Sex\"] = input_data[\"Sex\"].map({\"male\":1, \"female\":2})\n",
    "# هم چنین برای ستون Embarked هم در ابتدا به حرف اول جایی که سوار شدن عدد نگاشت می کنیم تا مشخص شود کدام بندر بیشترین تکرار را دارد تا آن را بجای مادیر خالی در این ستون بگزاریم\n",
    "input_data.fillna({\"Embarked\":\"S\"}, inplace=True)\n",
    "input_data[\"Embarked\"] = input_data[\"Embarked\"].map({\"S\":1, \"C\":2, \"Q\":3})\n",
    "#print(np.unique(input_data[\"Embarked\"].dropna(), return_counts=True))\n",
    "\n"
   ],
   "id": "b30f8a9c8a085063",
   "outputs": [],
   "execution_count": null
  },
  {
   "metadata": {},
   "cell_type": "code",
   "source": [
    "# در ستون کابین، حرف اول را فقط در نظر می گیریم و اعداد بعد از آن را در نظر نمی گیریم، سپس به بررسی تعداد مسافران در هر کابین می پردازیم\n",
    "input_data[\"Cabin\"] = input_data[\"Cabin\"].astype(str).str[0]\n",
    "print(input_data[\"Cabin\"].value_counts(dropna=False))"
   ],
   "id": "2c3927ef459a3d91",
   "outputs": [],
   "execution_count": null
  },
  {
   "metadata": {},
   "cell_type": "code",
   "source": [
    "# با توجه به نتیجه خروجی بالا، اگر همه موارد خالی را با مد ستون کابین پر کنیم، تحلیل مان اشتباه می شود چون اکثر مسافران می شوند از کابین c و هم چنین ممکن است که واقعا بعضی از افراد کابین نداشته باشند، پس یک دسته بندی جدید به نام unknown با مخفف u درست می کنیم و مقادیر خالی را با آن ها پر می کنیم\n",
    "\n",
    "input_data[\"Cabin\"] = input_data[\"Cabin\"].astype(str).str[0]\n",
    "\n",
    "input_data[\"Cabin\"] = input_data[\"Cabin\"].replace(\"n\", \"U\")\n",
    "\n",
    "input_data[\"Cabin\"] = input_data[\"Cabin\"].map({\n",
    "    \"A\":1, \"B\":2, \"C\":3, \"D\":4, \"E\":5, \"F\":6, \"G\":7, \"T\":8, \"U\":0\n",
    "})\n"
   ],
   "id": "df87cb5722881c06",
   "outputs": [],
   "execution_count": null
  },
  {
   "metadata": {},
   "cell_type": "code",
   "source": "input_data[\"Age\"]=input_data[\"Age\"].astype(np.uint8)\n",
   "id": "4b6575e349945dba",
   "outputs": [],
   "execution_count": null
  },
  {
   "metadata": {},
   "cell_type": "code",
   "source": [
    "#با استفاده از این تابع همه داده ها را بررسی کرده و تا جایی که امکان دارد آن ها را کاهش حجم می دهیم\n",
    "def auto_data_type(df):\n",
    "    for col in df.select_dtypes(include=[np.number]).columns:\n",
    "        min_value = df[col].min()\n",
    "        max_value = df[col].max()\n",
    "\n",
    "        if pd.api.types.is_float_dtype(df[col]):\n",
    "            df[col] = df[col].astype(np.float32)\n",
    "        elif min_value >= 0:\n",
    "            if max_value <= 255:\n",
    "                df[col] = df[col].astype(np.uint8)\n",
    "            elif max_value <= 65535:\n",
    "                df[col] = df[col].astype(np.uint16)\n",
    "            elif max_value <= 4294967295:\n",
    "                df[col] = df[col].astype(np.uint32)\n",
    "            else:\n",
    "                df[col] = df[col].astype(np.uint64)\n",
    "        else:\n",
    "            if -128 <= min_value and max_value <= 127:\n",
    "                df[col] = df[col].astype(np.int8)\n",
    "            elif -32768 <= min_value and max_value <= 32767:\n",
    "                df[col] = df[col].astype(np.int16)\n",
    "            elif -2147483648 <= min_value and max_value <= 2147483647:\n",
    "                df[col] = df[col].astype(np.int32)\n",
    "            else:\n",
    "                df[col] = df[col].astype(np.int64)\n",
    "    return df\n",
    "\n",
    "clean_df=auto_data_type(input_data)\n",
    "\n",
    "#به بررسی مقدار حجم کاهش یا فته می پردازیم تا تغییرات را مشاهده کنیم. همان طور که دیده می شود حدود 88 درصد کاهش حجم رخ داده است.\n",
    "clean_df.info()\n"
   ],
   "id": "892ef1e6ab9a9971",
   "outputs": [],
   "execution_count": null
  },
  {
   "metadata": {},
   "cell_type": "markdown",
   "source": "Normalization",
   "id": "1c537682e605dcf4"
  },
  {
   "metadata": {},
   "cell_type": "code",
   "source": [
    "fig, axes = plt.subplots(nrows=1, ncols=4, figsize=(20,6))\n",
    "\n",
    "cols = [\"Age\", \"Fare\", \"SibSp\", \"Parch\"]\n",
    "\n",
    "for idx, ax in enumerate(axes.ravel()):\n",
    "    ax.boxplot(clean_df[cols[idx]])\n",
    "    ax.legend([cols[idx]])\n",
    "\n",
    "# از پلات زیر می توان نتیجه گرفت که یک نفر بیشترین Fare داشته. پس آن را حذف می کنیم\n",
    "clean_df = clean_df[clean_df[\"Fare\"] != clean_df[\"Fare\"].max()]"
   ],
   "id": "581e478ea92bc652",
   "outputs": [],
   "execution_count": null
  }
 ],
 "metadata": {
  "kernelspec": {
   "display_name": "Python 3",
   "language": "python",
   "name": "python3"
  },
  "language_info": {
   "codemirror_mode": {
    "name": "ipython",
    "version": 2
   },
   "file_extension": ".py",
   "mimetype": "text/x-python",
   "name": "python",
   "nbconvert_exporter": "python",
   "pygments_lexer": "ipython2",
   "version": "2.7.6"
  }
 },
 "nbformat": 4,
 "nbformat_minor": 5
}
